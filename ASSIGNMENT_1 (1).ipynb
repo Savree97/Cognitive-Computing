{
  "nbformat": 4,
  "nbformat_minor": 0,
  "metadata": {
    "colab": {
      "provenance": []
    },
    "kernelspec": {
      "name": "python3",
      "display_name": "Python 3"
    },
    "language_info": {
      "name": "python"
    }
  },
  "cells": [
    {
      "cell_type": "code",
      "execution_count": null,
      "metadata": {
        "colab": {
          "base_uri": "https://localhost:8080/"
        },
        "id": "vEEFRaC2KtzF",
        "outputId": "7f1737a4-c18d-4067-ab2e-83f1c5aac703"
      },
      "outputs": [
        {
          "output_type": "stream",
          "name": "stdout",
          "text": [
            "Savree\n",
            "Savree\n",
            "Savree\n"
          ]
        }
      ],
      "source": [
        "#Assingment 1.1: WAP to print your name three times\n",
        "print('Savree')\n",
        "print('Savree')\n",
        "print('Savree')"
      ]
    },
    {
      "cell_type": "code",
      "source": [
        "#Assingment 2.1: WAP to add three numbers and print the result\n",
        "a=float(input('enter 1st number: '))\n",
        "b=float(input('enter 2nd number: '))\n",
        "c=float(input('enter 3rd number: '))\n",
        "sum = a + b + c\n",
        "print('the sum is',sum)\n"
      ],
      "metadata": {
        "colab": {
          "base_uri": "https://localhost:8080/"
        },
        "id": "5mi26UbrLZ7o",
        "outputId": "53295617-088e-491c-cf2f-922301c16926"
      },
      "execution_count": null,
      "outputs": [
        {
          "output_type": "stream",
          "name": "stdout",
          "text": [
            "enter 1st number: 3\n",
            "enter 2nd number: 2\n",
            "enter 3rd number: 1\n",
            "the sum is 6.0\n"
          ]
        }
      ]
    },
    {
      "cell_type": "code",
      "source": [
        "#Assingment 2.2: WAP to concatinate three strings and print the result.\n",
        "a='Hello'\n",
        "b='World'\n",
        "c='!'\n",
        "output=(a+\" \"+b+\" \"+c)\n",
        "print(output)"
      ],
      "metadata": {
        "colab": {
          "base_uri": "https://localhost:8080/"
        },
        "id": "zUM_MYiSOW-t",
        "outputId": "d0e355fe-5bc7-4842-9f89-5421ebd53a63"
      },
      "execution_count": null,
      "outputs": [
        {
          "output_type": "stream",
          "name": "stdout",
          "text": [
            "Hello World !\n"
          ]
        }
      ]
    },
    {
      "cell_type": "code",
      "source": [
        "#Assingment 4.1: WAP to print the table of 7, 9.\n",
        "for i in range(1,11):\n",
        "  print(7,\"*\", i, \"=\", 7*i)"
      ],
      "metadata": {
        "colab": {
          "base_uri": "https://localhost:8080/"
        },
        "id": "o85QatMvPYPm",
        "outputId": "8baa6eac-9f05-4915-9ecf-5dbdf7a32176"
      },
      "execution_count": null,
      "outputs": [
        {
          "output_type": "stream",
          "name": "stdout",
          "text": [
            "7 * 1 = 7\n",
            "7 * 2 = 14\n",
            "7 * 3 = 21\n",
            "7 * 4 = 28\n",
            "7 * 5 = 35\n",
            "7 * 6 = 42\n",
            "7 * 7 = 49\n",
            "7 * 8 = 56\n",
            "7 * 9 = 63\n",
            "7 * 10 = 70\n"
          ]
        }
      ]
    },
    {
      "cell_type": "code",
      "source": [
        "for i in range(1,11):\n",
        "  print(5,\"*\",i, \"=\", 5*i)"
      ],
      "metadata": {
        "colab": {
          "base_uri": "https://localhost:8080/"
        },
        "id": "N7aLZlT9QTFU",
        "outputId": "6c2a9dd9-bc0d-4696-8178-26b808a1602a"
      },
      "execution_count": null,
      "outputs": [
        {
          "output_type": "stream",
          "name": "stdout",
          "text": [
            "5 * 1 = 5\n",
            "5 * 2 = 10\n",
            "5 * 3 = 15\n",
            "5 * 4 = 20\n",
            "5 * 5 = 25\n",
            "5 * 6 = 30\n",
            "5 * 7 = 35\n",
            "5 * 8 = 40\n",
            "5 * 9 = 45\n",
            "5 * 10 = 50\n"
          ]
        }
      ]
    },
    {
      "cell_type": "code",
      "source": [
        "#Assingment 4.2: WAP to print the table of n and n is given by user.\n",
        "n=int(input('enter the value of n:'))\n",
        "for i in range(1,11):\n",
        "  print(n,\"*\",i,\"=\",n*i)"
      ],
      "metadata": {
        "colab": {
          "base_uri": "https://localhost:8080/"
        },
        "id": "3qD4GKTFQgAe",
        "outputId": "a1b4b243-81a5-4924-d39c-e203863c71da"
      },
      "execution_count": null,
      "outputs": [
        {
          "output_type": "stream",
          "name": "stdout",
          "text": [
            "enter the value of n:9\n",
            "9 * 1 = 9\n",
            "9 * 2 = 18\n",
            "9 * 3 = 27\n",
            "9 * 4 = 36\n",
            "9 * 5 = 45\n",
            "9 * 6 = 54\n",
            "9 * 7 = 63\n",
            "9 * 8 = 72\n",
            "9 * 9 = 81\n",
            "9 * 10 = 90\n"
          ]
        }
      ]
    },
    {
      "cell_type": "code",
      "source": [
        "#Assingment 4.3: WAP to add all the numbers from 1 to n and n is given by user.\n",
        "n=int(input('enter a number:'))\n",
        "totalSum=0\n",
        "for i in range(1,n+1):\n",
        "  totalSum=totalSum+i\n",
        "print(totalSum)"
      ],
      "metadata": {
        "colab": {
          "base_uri": "https://localhost:8080/"
        },
        "id": "lEYLzynSRHC_",
        "outputId": "63ab4c00-dbe0-4cbd-c8f6-bfd3b815616b"
      },
      "execution_count": null,
      "outputs": [
        {
          "output_type": "stream",
          "name": "stdout",
          "text": [
            "enter a number:5\n",
            "15\n"
          ]
        }
      ]
    },
    {
      "cell_type": "code",
      "source": [
        "#Assingment 5.1: WAP to find max amoung three numbers and input from user. [Try max() function]\n",
        "a=float(input('enter 1st number:'))\n",
        "b=float(input('enter 2nd number:'))\n",
        "c=float(input('enter 3rd number:'))\n",
        "result= max(a,b,c)\n",
        "print('the maximum of the three numbers is',result)\n"
      ],
      "metadata": {
        "colab": {
          "base_uri": "https://localhost:8080/"
        },
        "id": "UFtPD-FjWoiJ",
        "outputId": "d8c9d496-6f44-4e15-d997-9c69e3110879"
      },
      "execution_count": null,
      "outputs": [
        {
          "output_type": "stream",
          "name": "stdout",
          "text": [
            "enter 1st number:5.4\n",
            "enter 2nd number:.3\n",
            "enter 3rd number:9.0\n",
            "the maximum of the three numbers is 9.0\n"
          ]
        }
      ]
    },
    {
      "cell_type": "code",
      "source": [
        "#Assingment 5.2: WAP to add all numbers divisible by 7 and 9 from 1 to n and n is given by the user.\n",
        "n=int(input('enter the value of n:'))\n",
        "totalSum=0\n",
        "for i in range(1,n+1):\n",
        "  if(i%7==0 and i%9==0):\n",
        "    totalSum=totalSum+i\n",
        "print('sum is', totalSum)"
      ],
      "metadata": {
        "colab": {
          "base_uri": "https://localhost:8080/"
        },
        "id": "57eSHx5RX7Is",
        "outputId": "96b81e9e-e16b-4566-8748-81824db8c0b5"
      },
      "execution_count": null,
      "outputs": [
        {
          "output_type": "stream",
          "name": "stdout",
          "text": [
            "enter the value of n:200\n",
            "sum is 378\n"
          ]
        }
      ]
    },
    {
      "cell_type": "code",
      "source": [
        "#Assingment 5.3: WAP to add all prime numbers from 1 to n and n is given by the user.\n",
        "n = int(input(\"Enter the value of n: \"))\n",
        "def isPrime(n):\n",
        "    if n < 2:\n",
        "        return False\n",
        "    for i in range(2, n // 2 + 1):\n",
        "        if n % i == 0:\n",
        "            return False\n",
        "    return True\n",
        "totalSum = 0\n",
        "for k in range(2, n + 1):\n",
        "    if isPrime(k):\n",
        "        totalSum=totalSum+k\n",
        "\n",
        "print(f\"The sum of prime numbers from 2 to\",n,\"is:\", totalSum)"
      ],
      "metadata": {
        "id": "9wViBUhfYZ6G",
        "colab": {
          "base_uri": "https://localhost:8080/"
        },
        "outputId": "779388da-8569-4d20-85e6-14d09fb56ff1"
      },
      "execution_count": 14,
      "outputs": [
        {
          "output_type": "stream",
          "name": "stdout",
          "text": [
            "Enter the value of n: 7\n",
            "The sum of prime numbers from 2 to 7 is: 17\n"
          ]
        }
      ]
    },
    {
      "cell_type": "code",
      "source": [
        "#Assingment 6.1: WAP using function that add all odd numbers from 1 to n, n is given by the user.\n",
        "#n=int(input('enter a number'))\n",
        "def oddSum(n):\n",
        "    totalSum=0\n",
        "    for i in range(1,n+1):\n",
        "      if i%2!=0:\n",
        "\n",
        "       totalSum=totalSum+i\n",
        "    return totalSum\n",
        "\n",
        "print(oddSum(5))"
      ],
      "metadata": {
        "colab": {
          "base_uri": "https://localhost:8080/"
        },
        "id": "alp8pPyiNkhF",
        "outputId": "cccfeccc-cb3c-46ed-91ed-21d3af8a3e2e"
      },
      "execution_count": 32,
      "outputs": [
        {
          "output_type": "stream",
          "name": "stdout",
          "text": [
            "9\n"
          ]
        }
      ]
    },
    {
      "cell_type": "code",
      "source": [
        "#Assingment 6.2: WAP using function that add all prime numbers from 1 to n, n given by the user.\n",
        "def isPrime(n):\n",
        "    if n < 2:\n",
        "        return False\n",
        "    for i in range(2, n // 2 + 1):\n",
        "        if n % i == 0:\n",
        "            return False\n",
        "    return True\n",
        "\n",
        "\n",
        "n = int(input(\"Enter the value of n: \"))\n",
        "\n",
        "\n",
        "totalSum = 0\n",
        "for k in range(2, n + 1):\n",
        "    if isPrime(k):\n",
        "        totalSum += k\n",
        "\n",
        "\n",
        "print(f\"The sum of all prime numbers from 1 to\", n, \"is:\", totalSum)\n",
        "\n",
        "\n",
        "print(isPrime(3))"
      ],
      "metadata": {
        "colab": {
          "base_uri": "https://localhost:8080/"
        },
        "id": "v5hnyoNcQ5Nt",
        "outputId": "12b4ca74-9a6e-439a-9ff5-dfeee3706f3b"
      },
      "execution_count": 1,
      "outputs": [
        {
          "output_type": "stream",
          "name": "stdout",
          "text": [
            "Enter the value of n: 3\n",
            "The sum of all prime numbers from 1 to 3 is: 5\n",
            "True\n"
          ]
        }
      ]
    },
    {
      "cell_type": "code",
      "source": [],
      "metadata": {
        "id": "1-jW52DRnUEQ"
      },
      "execution_count": null,
      "outputs": []
    }
  ]
}