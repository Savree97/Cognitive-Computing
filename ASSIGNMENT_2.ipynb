{
  "nbformat": 4,
  "nbformat_minor": 0,
  "metadata": {
    "colab": {
      "provenance": []
    },
    "kernelspec": {
      "name": "python3",
      "display_name": "Python 3"
    },
    "language_info": {
      "name": "python"
    }
  },
  "cells": [
    {
      "cell_type": "code",
      "execution_count": 8,
      "metadata": {
        "colab": {
          "base_uri": "https://localhost:8080/"
        },
        "id": "HVwWAY7jxwHc",
        "outputId": "81325994-8083-4be2-d64e-e35dcdaa4102"
      },
      "outputs": [
        {
          "output_type": "stream",
          "name": "stdout",
          "text": [
            "[10, 20, 30, 40, 50, 60, 70, 80]\n",
            "[10, 20, 30, 40, 50, 60, 70, 80, 200, 300]\n",
            "[20, 40, 50, 60, 70, 80, 200, 300]\n",
            "[20, 40, 50, 60, 70, 80, 200, 300]\n",
            "[300, 200, 80, 70, 60, 50, 40, 20]\n"
          ]
        }
      ],
      "source": [
        "#1. Create a List L that is defined as= [10, 20, 30, 40, 50, 60, 70, 80].\n",
        "#i. WAP to add 200 and 300 to L.\n",
        "L=[10,20,30,40,50,60,70,80]\n",
        "print(L)\n",
        "L.append(200)\n",
        "L.append(300)\n",
        "print(L)\n",
        "\n",
        "#ii. WAP to remove 10 and 30 from L\n",
        "L.remove(10)\n",
        "L.remove(30)\n",
        "print(L)\n",
        "\n",
        "#iii. WAP to sort L in ascending order.\n",
        "L.sort()\n",
        "print(L)\n",
        "\n",
        "#iv. WAP to sort L in descending order.\n",
        "L.reverse()\n",
        "print(L)"
      ]
    },
    {
      "cell_type": "code",
      "source": [
        "#2. Create a tuple of marks scored as scores = (45, 89.5, 76, 45.4, 89, 92, 58, 45) and perform the following operations using tuple functions:\n",
        "#i. Identify the highest score and its index in the tuple.\n",
        "scores = (45, 89.5, 76, 45.4, 89, 92, 58, 45)\n",
        "print(scores)\n",
        "maxScore=max(scores)\n",
        "print(max(scores))\n",
        "print(scores.index(maxScore))\n",
        "\n",
        "#ii. Find the lowest score and count how many times it appears.\n",
        "minScore=min(scores)\n",
        "print(minScore)\n",
        "print(scores.count(minScore))\n",
        "\n",
        "#iii. Reverse the tuple and return it as a list.\n",
        "scores=scores[::-1]\n",
        "L1=list(scores)\n",
        "print(L1)\n",
        "\n",
        "#iv. Check if a specific score ‘76’ (input by the user) is present in the tuple and print its first occurrence index, or a message saying it’s not present.\n",
        "n=int(input(\"enter the score: \"))\n",
        "if n in scores:\n",
        "    print(\"present at index: \", scores.index(n))\n",
        "\n",
        "else:\n",
        "    print(\"not present\")\n",
        "\n"
      ],
      "metadata": {
        "colab": {
          "base_uri": "https://localhost:8080/"
        },
        "id": "hjX3GsPH0CmX",
        "outputId": "6edf9309-a7f2-47bb-e716-bb7002fd603e"
      },
      "execution_count": 24,
      "outputs": [
        {
          "output_type": "stream",
          "name": "stdout",
          "text": [
            "(45, 89.5, 76, 45.4, 89, 92, 58, 45)\n",
            "92\n",
            "5\n",
            "45\n",
            "2\n",
            "[45, 58, 92, 89, 45.4, 76, 89.5, 45]\n",
            "enter the score: 76\n",
            "present at index:  5\n"
          ]
        }
      ]
    },
    {
      "cell_type": "code",
      "source": [
        "#3. WAP to create a list of 100 random numbers between 100 and 900. Count and print the:\n",
        "#i. All odd numbers\n",
        "#ii. All even numbers\n",
        "#iii. All prime numbers\n",
        "import random\n",
        "L2=[]\n",
        "for i in range(100):\n",
        "    L2.append(random.randint(100,900))\n",
        "print(L2)\n",
        "countOdd=0\n",
        "countEven=0\n",
        "countPrime=0\n",
        "for i in L2:\n",
        "    if i%2!=0:\n",
        "        countOdd+=1\n",
        "    else:\n",
        "        countEven+=1\n",
        "\n",
        "for i in L2:\n",
        "    if i>1:\n",
        "        for j in range(2,i):\n",
        "            if i%j==0:\n",
        "                break\n",
        "        else:\n",
        "            countPrime+=1\n",
        "\n",
        "print(\"count of odd numbers: \", countOdd)\n",
        "print(\"count of even numbers: \", countEven)\n",
        "print(\"count of prime numbers: \", countPrime)\n"
      ],
      "metadata": {
        "colab": {
          "base_uri": "https://localhost:8080/"
        },
        "id": "XfOnBvLs3uuY",
        "outputId": "a579cf24-54ca-4ca1-b5d0-b9af650f0cd8"
      },
      "execution_count": 26,
      "outputs": [
        {
          "output_type": "stream",
          "name": "stdout",
          "text": [
            "[798, 314, 852, 395, 497, 141, 888, 717, 532, 274, 122, 836, 349, 418, 221, 583, 591, 366, 217, 792, 486, 267, 247, 787, 777, 450, 440, 755, 141, 230, 740, 689, 356, 285, 345, 161, 792, 888, 810, 607, 492, 729, 890, 759, 267, 665, 173, 312, 700, 269, 355, 816, 678, 736, 133, 529, 859, 209, 114, 133, 613, 885, 632, 588, 425, 855, 379, 579, 489, 241, 139, 878, 244, 355, 530, 391, 832, 585, 169, 583, 346, 843, 319, 229, 612, 755, 277, 672, 353, 611, 303, 238, 168, 759, 198, 410, 313, 317, 863, 485]\n",
            "count of odd numbers:  59\n",
            "count of even numbers:  41\n",
            "count of prime numbers:  16\n"
          ]
        }
      ]
    },
    {
      "cell_type": "code",
      "source": [
        "#4. Consider the following two sets, A and B, representing scores of two teams in multiple matches. A = {34, 56, 78, 90} and B = {78, 45, 90, 23}\n",
        "#WAP to perform the following operaƟons using set functions:\n",
        "#i. Find the unique scores achieved by both teams (union of sets).\n",
        "#ii. Identify the scores that are common to both teams (intersection of sets).\n",
        "#iii. Find the scores that are exclusive to each team (symmetric difference).\n",
        "#iv. Check if the scores of team A are a subset of team B, and if team B's scores are a superset of team A.\n",
        "#v. Remove a specific score 𝑋 (input by the user) from set A if it exists. If not, print a message saying it is not present.\n",
        "\n",
        "A = {34, 56, 78, 90}\n",
        "B = {78, 45, 90, 23}\n",
        "print(A)\n",
        "print(B)\n",
        "print(\"union of sets: \", A.union(B))\n",
        "print(\"intersection of sets: \", A.intersection(B))\n",
        "print(\"symmetric difference: \", A.symmetric_difference(B))\n",
        "print(\"A is subset of B: \", A.issubset(B))\n",
        "print(\"B is superset of A: \", B.issuperset(A))\n",
        "n=int(input(\"enter the score: \"))\n",
        "if n in A:\n",
        "    A.remove(n)\n",
        "    print(A)\n",
        "else:\n",
        "    print(\"not present\")\n",
        "\n",
        "\n",
        "\n"
      ],
      "metadata": {
        "colab": {
          "base_uri": "https://localhost:8080/"
        },
        "id": "sXbBYmZi5qdb",
        "outputId": "251265f6-bf62-42e6-e119-07e4c55229cc"
      },
      "execution_count": 27,
      "outputs": [
        {
          "output_type": "stream",
          "name": "stdout",
          "text": [
            "{56, 34, 90, 78}\n",
            "{90, 45, 78, 23}\n",
            "union of sets:  {34, 45, 78, 23, 56, 90}\n",
            "intersection of sets:  {90, 78}\n",
            "symmetric difference:  {34, 45, 23, 56}\n",
            "A is subset of B:  False\n",
            "B is superset of A:  False\n",
            "enter the score: 49\n",
            "not present\n"
          ]
        }
      ]
    },
    {
      "cell_type": "code",
      "source": [
        "#5. Write a program to rename a key city to a location in the following dictionary\n",
        "\n",
        "sample_dict={\"name\" : \"Kelly\", \"age\" : 25, \"salary\":8000, \"city\" : \"New York\"}\n",
        "print(sample_dict)\n",
        "sample_dict[\"location\"]=sample_dict.pop(\"city\")\n",
        "print(sample_dict)\n"
      ],
      "metadata": {
        "colab": {
          "base_uri": "https://localhost:8080/"
        },
        "id": "-R8Ln7au7GYH",
        "outputId": "277e211d-22f3-4135-a9a7-bf4a93119562"
      },
      "execution_count": 31,
      "outputs": [
        {
          "output_type": "stream",
          "name": "stdout",
          "text": [
            "{'name': 'Kelly', 'age': 25, 'salary': 8000, 'city': 'New York'}\n",
            "{'name': 'Kelly', 'age': 25, 'salary': 8000, 'location': 'New York'}\n"
          ]
        }
      ]
    }
  ]
}