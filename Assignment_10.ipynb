{
  "nbformat": 4,
  "nbformat_minor": 0,
  "metadata": {
    "colab": {
      "provenance": []
    },
    "kernelspec": {
      "name": "python3",
      "display_name": "Python 3"
    },
    "language_info": {
      "name": "python"
    }
  },
  "cells": [
    {
      "cell_type": "code",
      "execution_count": null,
      "metadata": {
        "colab": {
          "base_uri": "https://localhost:8080/"
        },
        "id": "uahwY8BREASO",
        "outputId": "79d6f69a-4c3b-40d5-d59a-4d9391822d45"
      },
      "outputs": [
        {
          "output_type": "stream",
          "name": "stderr",
          "text": [
            "[nltk_data] Downloading package punkt_tab to /root/nltk_data...\n",
            "[nltk_data]   Package punkt_tab is already up-to-date!\n",
            "[nltk_data] Downloading package stopwords to /root/nltk_data...\n",
            "[nltk_data]   Package stopwords is already up-to-date!\n"
          ]
        }
      ],
      "source": [
        "\n",
        "import nltk\n",
        "import string\n",
        "from nltk.tokenize import word_tokenize, sent_tokenize\n",
        "from nltk.corpus import stopwords\n",
        "from collections import Counter\n",
        "nltk.download('punkt_tab')\n",
        "nltk.download('stopwords')\n",
        "import numpy as np"
      ]
    },
    {
      "cell_type": "code",
      "source": [
        "text = \"\"\"So here’s something about one of my favorite movies — Jojo Rabbit.\n",
        "It’s a satirical comedy-drama that blends humor and heartbreak in a surprisingly touching way.\n",
        "The story follows Jojo, a young boy living in Nazi Germany, who has Adolf Hitler as his imaginary friend — though portrayed in a ridiculously silly manner.\n",
        "As Jojo discovers that his mother is hiding a Jewish girl in their home, his beliefs begin to shift.\n",
        "The film bravely mixes absurdity with emotional depth, challenging prejudice with wit and compassion.\n",
        "Taika Waititi's direction adds a quirky charm that makes the story both hilarious and heart-wrenching.\"\"\"\n"
      ],
      "metadata": {
        "id": "S3BRnKbhEOLI"
      },
      "execution_count": null,
      "outputs": []
    },
    {
      "cell_type": "code",
      "source": [
        "# Q1. Write a unique paragraph (5-6 sentences) about your favorite topic (e.g., sports,technology, food, books, etc.).\n",
        "# 1. Convert text to lowercase and remove punctuation using re.\n",
        "text_clean = text.lower().translate(str.maketrans('', '', string.punctuation))\n",
        "print(text_clean)\n",
        "\n",
        "\n"
      ],
      "metadata": {
        "colab": {
          "base_uri": "https://localhost:8080/"
        },
        "id": "u7NMlfZaEsZ_",
        "outputId": "5b46dc24-66b9-454a-d106-ff18eaa78fcd"
      },
      "execution_count": null,
      "outputs": [
        {
          "output_type": "stream",
          "name": "stdout",
          "text": [
            "so here’s something about one of my favorite movies — jojo rabbit \n",
            "it’s a satirical comedydrama that blends humor and heartbreak in a surprisingly touching way\n",
            "the story follows jojo a young boy living in nazi germany who has adolf hitler as his imaginary friend — though portrayed in a ridiculously silly manner\n",
            "as jojo discovers that his mother is hiding a jewish girl in their home his beliefs begin to shift\n",
            "the film bravely mixes absurdity with emotional depth challenging prejudice with wit and compassion\n",
            "taika waititis direction adds a quirky charm that makes the story both hilarious and heartwrenching\n"
          ]
        }
      ]
    },
    {
      "cell_type": "code",
      "source": [
        "# 2. Tokenize the text into words and sentences.\n",
        "split_words = text_clean.split()\n",
        "tokenized_words = word_tokenize(text_clean)\n",
        "print(tokenized_words)"
      ],
      "metadata": {
        "colab": {
          "base_uri": "https://localhost:8080/"
        },
        "id": "pw2I1e6KE8jz",
        "outputId": "af8ef94b-7711-4503-8f26-3fce3880ef8c"
      },
      "execution_count": null,
      "outputs": [
        {
          "output_type": "stream",
          "name": "stdout",
          "text": [
            "['so', 'here', '’', 's', 'something', 'about', 'one', 'of', 'my', 'favorite', 'movies', '—', 'jojo', 'rabbit', 'it', '’', 's', 'a', 'satirical', 'comedydrama', 'that', 'blends', 'humor', 'and', 'heartbreak', 'in', 'a', 'surprisingly', 'touching', 'way', 'the', 'story', 'follows', 'jojo', 'a', 'young', 'boy', 'living', 'in', 'nazi', 'germany', 'who', 'has', 'adolf', 'hitler', 'as', 'his', 'imaginary', 'friend', '—', 'though', 'portrayed', 'in', 'a', 'ridiculously', 'silly', 'manner', 'as', 'jojo', 'discovers', 'that', 'his', 'mother', 'is', 'hiding', 'a', 'jewish', 'girl', 'in', 'their', 'home', 'his', 'beliefs', 'begin', 'to', 'shift', 'the', 'film', 'bravely', 'mixes', 'absurdity', 'with', 'emotional', 'depth', 'challenging', 'prejudice', 'with', 'wit', 'and', 'compassion', 'taika', 'waititis', 'direction', 'adds', 'a', 'quirky', 'charm', 'that', 'makes', 'the', 'story', 'both', 'hilarious', 'and', 'heartwrenching']\n"
          ]
        }
      ]
    },
    {
      "cell_type": "code",
      "source": [
        "#3. Split using split() and word_tokenize() and compare how Python split and NLTK’s word_tokenize() differ.\n",
        "print(\"Split():\", split_words[:10])\n",
        "print(\"word_tokenize():\", tokenized_words[:10])"
      ],
      "metadata": {
        "colab": {
          "base_uri": "https://localhost:8080/"
        },
        "id": "Nvot5BxDGAZF",
        "outputId": "8fcb091a-41f9-4f26-965e-992a007e1c1d"
      },
      "execution_count": null,
      "outputs": [
        {
          "output_type": "stream",
          "name": "stdout",
          "text": [
            "Split(): ['so', 'here’s', 'something', 'about', 'one', 'of', 'my', 'favorite', 'movies', '—']\n",
            "word_tokenize(): ['so', 'here', '’', 's', 'something', 'about', 'one', 'of', 'my', 'favorite']\n"
          ]
        }
      ]
    },
    {
      "cell_type": "code",
      "source": [
        "#4. Remove stopwords (using NLTK's stopwords list).\n",
        "stop_words = set(stopwords.words('english'))\n",
        "filtered = [word for word in tokenized_words if word not in stop_words]"
      ],
      "metadata": {
        "id": "m1G1avaXGLA4"
      },
      "execution_count": null,
      "outputs": []
    },
    {
      "cell_type": "code",
      "source": [
        "#5. Display word frequency distribution (excluding stopwords).\n",
        "freq_dist = Counter(filtered)\n",
        "print(\"frequency distribution:\", freq_dist)"
      ],
      "metadata": {
        "colab": {
          "base_uri": "https://localhost:8080/"
        },
        "id": "aMcuNVE5GRdV",
        "outputId": "bb788b43-4d0c-41fe-bca6-17d2bcac65e0"
      },
      "execution_count": null,
      "outputs": [
        {
          "output_type": "stream",
          "name": "stdout",
          "text": [
            "frequency distribution: Counter({'jojo': 3, '’': 2, '—': 2, 'story': 2, 'something': 1, 'one': 1, 'favorite': 1, 'movies': 1, 'rabbit': 1, 'satirical': 1, 'comedydrama': 1, 'blends': 1, 'humor': 1, 'heartbreak': 1, 'surprisingly': 1, 'touching': 1, 'way': 1, 'follows': 1, 'young': 1, 'boy': 1, 'living': 1, 'nazi': 1, 'germany': 1, 'adolf': 1, 'hitler': 1, 'imaginary': 1, 'friend': 1, 'though': 1, 'portrayed': 1, 'ridiculously': 1, 'silly': 1, 'manner': 1, 'discovers': 1, 'mother': 1, 'hiding': 1, 'jewish': 1, 'girl': 1, 'home': 1, 'beliefs': 1, 'begin': 1, 'shift': 1, 'film': 1, 'bravely': 1, 'mixes': 1, 'absurdity': 1, 'emotional': 1, 'depth': 1, 'challenging': 1, 'prejudice': 1, 'wit': 1, 'compassion': 1, 'taika': 1, 'waititis': 1, 'direction': 1, 'adds': 1, 'quirky': 1, 'charm': 1, 'makes': 1, 'hilarious': 1, 'heartwrenching': 1})\n"
          ]
        }
      ]
    },
    {
      "cell_type": "code",
      "source": [
        "import re\n",
        "from nltk.stem import PorterStemmer, WordNetLemmatizer\n",
        "nltk.download('wordnet')\n",
        "nltk.download('omw-1.4')"
      ],
      "metadata": {
        "colab": {
          "base_uri": "https://localhost:8080/"
        },
        "id": "zQlfNOohHRU5",
        "outputId": "c3c6c779-a0f1-4c78-9507-69d4f36c1c67"
      },
      "execution_count": null,
      "outputs": [
        {
          "output_type": "stream",
          "name": "stderr",
          "text": [
            "[nltk_data] Downloading package wordnet to /root/nltk_data...\n",
            "[nltk_data] Downloading package omw-1.4 to /root/nltk_data...\n"
          ]
        },
        {
          "output_type": "execute_result",
          "data": {
            "text/plain": [
              "True"
            ]
          },
          "metadata": {},
          "execution_count": 21
        }
      ]
    },
    {
      "cell_type": "code",
      "source": [
        "# Q2. Using the same paragraph from Q1:\n",
        "# 1. Extract all words with only alphabets using re.findall()\n",
        "alpha_only = re.findall(r'\\b[a-zA-Z]+\\b', text_clean)\n",
        "print(alpha_only)"
      ],
      "metadata": {
        "colab": {
          "base_uri": "https://localhost:8080/"
        },
        "id": "MZSi8-xhGa7S",
        "outputId": "a5e46c58-566e-4d09-fa61-17d673b2030f"
      },
      "execution_count": null,
      "outputs": [
        {
          "output_type": "stream",
          "name": "stdout",
          "text": [
            "['so', 'here', 's', 'something', 'about', 'one', 'of', 'my', 'favorite', 'movies', 'jojo', 'rabbit', 'it', 's', 'a', 'satirical', 'comedydrama', 'that', 'blends', 'humor', 'and', 'heartbreak', 'in', 'a', 'surprisingly', 'touching', 'way', 'the', 'story', 'follows', 'jojo', 'a', 'young', 'boy', 'living', 'in', 'nazi', 'germany', 'who', 'has', 'adolf', 'hitler', 'as', 'his', 'imaginary', 'friend', 'though', 'portrayed', 'in', 'a', 'ridiculously', 'silly', 'manner', 'as', 'jojo', 'discovers', 'that', 'his', 'mother', 'is', 'hiding', 'a', 'jewish', 'girl', 'in', 'their', 'home', 'his', 'beliefs', 'begin', 'to', 'shift', 'the', 'film', 'bravely', 'mixes', 'absurdity', 'with', 'emotional', 'depth', 'challenging', 'prejudice', 'with', 'wit', 'and', 'compassion', 'taika', 'waititis', 'direction', 'adds', 'a', 'quirky', 'charm', 'that', 'makes', 'the', 'story', 'both', 'hilarious', 'and', 'heartwrenching']\n"
          ]
        }
      ]
    },
    {
      "cell_type": "code",
      "source": [
        "#2. Remove stop words using NLTK’s stopword list\n",
        "alpha_filtered = [word for word in alpha_only if word not in stop_words]\n",
        "print(alpha_filtered)"
      ],
      "metadata": {
        "colab": {
          "base_uri": "https://localhost:8080/"
        },
        "id": "N-4aIcYEHWTc",
        "outputId": "fee31d02-ac47-4341-ca9e-3b9bed6fbb95"
      },
      "execution_count": null,
      "outputs": [
        {
          "output_type": "stream",
          "name": "stdout",
          "text": [
            "['something', 'one', 'favorite', 'movies', 'jojo', 'rabbit', 'satirical', 'comedydrama', 'blends', 'humor', 'heartbreak', 'surprisingly', 'touching', 'way', 'story', 'follows', 'jojo', 'young', 'boy', 'living', 'nazi', 'germany', 'adolf', 'hitler', 'imaginary', 'friend', 'though', 'portrayed', 'ridiculously', 'silly', 'manner', 'jojo', 'discovers', 'mother', 'hiding', 'jewish', 'girl', 'home', 'beliefs', 'begin', 'shift', 'film', 'bravely', 'mixes', 'absurdity', 'emotional', 'depth', 'challenging', 'prejudice', 'wit', 'compassion', 'taika', 'waititis', 'direction', 'adds', 'quirky', 'charm', 'makes', 'story', 'hilarious', 'heartwrenching']\n"
          ]
        }
      ]
    },
    {
      "cell_type": "code",
      "source": [
        "#3. Perform stemming with PorterStemmer\n",
        "ps = PorterStemmer()\n",
        "stemmed = [ps.stem(word) for word in alpha_filtered]\n",
        "print(stemmed)\n"
      ],
      "metadata": {
        "colab": {
          "base_uri": "https://localhost:8080/"
        },
        "id": "qEHZsEiIHqxR",
        "outputId": "0ad60d89-05a8-4267-db07-3a2675ef009b"
      },
      "execution_count": null,
      "outputs": [
        {
          "output_type": "stream",
          "name": "stdout",
          "text": [
            "['someth', 'one', 'favorit', 'movi', 'jojo', 'rabbit', 'satir', 'comedydrama', 'blend', 'humor', 'heartbreak', 'surprisingli', 'touch', 'way', 'stori', 'follow', 'jojo', 'young', 'boy', 'live', 'nazi', 'germani', 'adolf', 'hitler', 'imaginari', 'friend', 'though', 'portray', 'ridicul', 'silli', 'manner', 'jojo', 'discov', 'mother', 'hide', 'jewish', 'girl', 'home', 'belief', 'begin', 'shift', 'film', 'brave', 'mix', 'absurd', 'emot', 'depth', 'challeng', 'prejudic', 'wit', 'compass', 'taika', 'waititi', 'direct', 'add', 'quirki', 'charm', 'make', 'stori', 'hilari', 'heartwrench']\n"
          ]
        }
      ]
    },
    {
      "cell_type": "code",
      "source": [
        "#4. Perform lemmatization with WordNetLemmatizer\n",
        "lemmatizer = WordNetLemmatizer()\n",
        "lemmatized = [lemmatizer.lemmatize(word) for word in alpha_filtered]\n",
        "print(lemmatized)"
      ],
      "metadata": {
        "colab": {
          "base_uri": "https://localhost:8080/"
        },
        "id": "C9z8je-rH2Pp",
        "outputId": "2841c250-665c-4c74-db69-aa1baf43983d"
      },
      "execution_count": null,
      "outputs": [
        {
          "output_type": "stream",
          "name": "stdout",
          "text": [
            "['something', 'one', 'favorite', 'movie', 'jojo', 'rabbit', 'satirical', 'comedydrama', 'blend', 'humor', 'heartbreak', 'surprisingly', 'touching', 'way', 'story', 'follows', 'jojo', 'young', 'boy', 'living', 'nazi', 'germany', 'adolf', 'hitler', 'imaginary', 'friend', 'though', 'portrayed', 'ridiculously', 'silly', 'manner', 'jojo', 'discovers', 'mother', 'hiding', 'jewish', 'girl', 'home', 'belief', 'begin', 'shift', 'film', 'bravely', 'mix', 'absurdity', 'emotional', 'depth', 'challenging', 'prejudice', 'wit', 'compassion', 'taika', 'waititis', 'direction', 'add', 'quirky', 'charm', 'make', 'story', 'hilarious', 'heartwrenching']\n"
          ]
        }
      ]
    },
    {
      "cell_type": "code",
      "source": [
        "#5. Compare the stemmed and lemmatized outputs and explain when you’d prefer one over the other.\n",
        "print(\"Stemmed:\", stemmed[:10])\n",
        "print(\"Lemmatized:\", lemmatized[:10])"
      ],
      "metadata": {
        "colab": {
          "base_uri": "https://localhost:8080/"
        },
        "id": "jGJyXyhQIDrV",
        "outputId": "9dea8604-be83-471c-cc04-8b7059b96d60"
      },
      "execution_count": null,
      "outputs": [
        {
          "output_type": "stream",
          "name": "stdout",
          "text": [
            "Stemmed: ['someth', 'one', 'favorit', 'movi', 'jojo', 'rabbit', 'satir', 'comedydrama', 'blend', 'humor']\n",
            "Lemmatized: ['something', 'one', 'favorite', 'movie', 'jojo', 'rabbit', 'satirical', 'comedydrama', 'blend', 'humor']\n"
          ]
        }
      ]
    },
    {
      "cell_type": "code",
      "source": [
        "from sklearn.feature_extraction.text import CountVectorizer, TfidfVectorizer\n",
        "\n",
        "texts = [\n",
        "    \"Jojo Rabbit is a bold and emotional film.\",\n",
        "    \"It mixes satire with serious themes like war and identity.\",\n",
        "    \"The direction and performances bring humor and heart.\"\n",
        "]"
      ],
      "metadata": {
        "id": "Osh2H5tEIhGr"
      },
      "execution_count": null,
      "outputs": []
    },
    {
      "cell_type": "code",
      "source": [
        "# Q3. Choose 3 short texts of your own (e.g., different news headlines, product reviews).\n",
        "# 1. Use CountVectorizer to generate the Bag of Words representation.\n",
        "cv = CountVectorizer()\n",
        "cv_matrix = cv.fit_transform(texts)\n",
        "print(\"BoW Features:\", cv.get_feature_names_out())\n",
        "print(\"BoW Matrix:\\n\", cv_matrix.toarray())\n"
      ],
      "metadata": {
        "colab": {
          "base_uri": "https://localhost:8080/"
        },
        "id": "mgpPJi5iIRx2",
        "outputId": "2a5b7e7c-69f7-4219-8615-17db333a5f9a"
      },
      "execution_count": null,
      "outputs": [
        {
          "output_type": "stream",
          "name": "stdout",
          "text": [
            "BoW Features: ['and' 'bold' 'bring' 'direction' 'emotional' 'film' 'heart' 'humor'\n",
            " 'identity' 'is' 'it' 'jojo' 'like' 'mixes' 'performances' 'rabbit'\n",
            " 'satire' 'serious' 'the' 'themes' 'war' 'with']\n",
            "BoW Matrix:\n",
            " [[1 1 0 0 1 1 0 0 0 1 0 1 0 0 0 1 0 0 0 0 0 0]\n",
            " [1 0 0 0 0 0 0 0 1 0 1 0 1 1 0 0 1 1 0 1 1 1]\n",
            " [2 0 1 1 0 0 1 1 0 0 0 0 0 0 1 0 0 0 1 0 0 0]]\n"
          ]
        }
      ]
    },
    {
      "cell_type": "code",
      "source": [
        "#2. Use TfidfVectorizer to compute TF-IDF scores.\n",
        "tfidf = TfidfVectorizer()\n",
        "tfidf_matrix = tfidf.fit_transform(texts)\n",
        "features = tfidf.get_feature_names_out()\n",
        "print(\"TF-IDF Features:\", features)\n",
        "print(\"TF-IDF Matrix:\\n\", tfidf_matrix.toarray())"
      ],
      "metadata": {
        "colab": {
          "base_uri": "https://localhost:8080/"
        },
        "id": "BNRnrsc4InwK",
        "outputId": "3bfbc5de-8cce-4b0b-a9b8-cbe78ab14506"
      },
      "execution_count": null,
      "outputs": [
        {
          "output_type": "stream",
          "name": "stdout",
          "text": [
            "TF-IDF Features: ['and' 'bold' 'bring' 'direction' 'emotional' 'film' 'heart' 'humor'\n",
            " 'identity' 'is' 'it' 'jojo' 'like' 'mixes' 'performances' 'rabbit'\n",
            " 'satire' 'serious' 'the' 'themes' 'war' 'with']\n",
            "TF-IDF Matrix:\n",
            " [[0.2344005  0.39687454 0.         0.         0.39687454 0.39687454\n",
            "  0.         0.         0.         0.39687454 0.         0.39687454\n",
            "  0.         0.         0.         0.39687454 0.         0.\n",
            "  0.         0.         0.         0.        ]\n",
            " [0.19316423 0.         0.         0.         0.         0.\n",
            "  0.         0.         0.32705548 0.         0.32705548 0.\n",
            "  0.32705548 0.32705548 0.         0.         0.32705548 0.32705548\n",
            "  0.         0.32705548 0.32705548 0.32705548]\n",
            " [0.43436728 0.         0.36772387 0.36772387 0.         0.\n",
            "  0.36772387 0.36772387 0.         0.         0.         0.\n",
            "  0.         0.         0.36772387 0.         0.         0.\n",
            "  0.36772387 0.         0.         0.        ]]\n"
          ]
        }
      ]
    },
    {
      "cell_type": "code",
      "source": [
        "#3. Print and interpret the top 3 keywords from each text using TF-IDF.\n",
        "for i, row in enumerate(tfidf_matrix.toarray()):\n",
        "    top_indices = np.argsort(row)[::-1][:3]\n",
        "    print(f\"Text {i+1} Top 3 Keywords:\")\n",
        "    for idx in top_indices:\n",
        "        print(f\"   {features[idx]}: {row[idx]:.3f}\")\n",
        "    print()"
      ],
      "metadata": {
        "colab": {
          "base_uri": "https://localhost:8080/"
        },
        "id": "IXfcA6H8Itox",
        "outputId": "29729751-e8f0-4c66-ca4f-52d7efbb9aa1"
      },
      "execution_count": null,
      "outputs": [
        {
          "output_type": "stream",
          "name": "stdout",
          "text": [
            "Text 1 Top 3 Keywords:\n",
            "   bold: 0.397\n",
            "   film: 0.397\n",
            "   emotional: 0.397\n",
            "\n",
            "Text 2 Top 3 Keywords:\n",
            "   with: 0.327\n",
            "   war: 0.327\n",
            "   themes: 0.327\n",
            "\n",
            "Text 3 Top 3 Keywords:\n",
            "   and: 0.434\n",
            "   the: 0.368\n",
            "   direction: 0.368\n",
            "\n"
          ]
        }
      ]
    },
    {
      "cell_type": "code",
      "source": [
        "from sklearn.metrics.pairwise import cosine_similarity\n",
        "\n",
        "text_ai = \"Artificial Intelligence enables machines to mimic human decision-making.\"\n",
        "text_blockchain = \"Blockchain is a decentralized system for secure digital transactions.\""
      ],
      "metadata": {
        "id": "vmHEOJKOK_vJ"
      },
      "execution_count": null,
      "outputs": []
    },
    {
      "cell_type": "code",
      "source": [
        "# Q4. Write 2 short texts (4–6 lines each) describing two different technologies (e.g., AI vs Blockchain).\n",
        "# 1. Preprocess and tokenize both texts.\n",
        "tokens_ai = set(word_tokenize(text_ai.lower())) - stop_words\n",
        "tokens_bc = set(word_tokenize(text_blockchain.lower())) - stop_words\n",
        "print(tokens_ai)\n",
        "print(tokens_bc)\n"
      ],
      "metadata": {
        "colab": {
          "base_uri": "https://localhost:8080/"
        },
        "id": "sDWir7nrKBo7",
        "outputId": "96e78e30-540a-48bf-a343-6daec7633db0"
      },
      "execution_count": null,
      "outputs": [
        {
          "output_type": "stream",
          "name": "stdout",
          "text": [
            "{'.', 'machines', 'intelligence', 'human', 'artificial', 'decision-making', 'enables', 'mimic'}\n",
            "{'.', 'secure', 'decentralized', 'transactions', 'system', 'digital', 'blockchain'}\n"
          ]
        }
      ]
    },
    {
      "cell_type": "code",
      "source": [
        "# #2. Calculate:\n",
        "# a. Jaccard Similarity using sets\n",
        "jaccard = len(tokens_ai & tokens_bc) / len(tokens_ai | tokens_bc)\n",
        "print(\"Jaccard Similarity:\", jaccard)\n",
        "\n",
        "# b. Cosine Similarity using TfidfVectorizer + cosine_similarity()\n",
        "vec = TfidfVectorizer()\n",
        "X = vec.fit_transform([text_ai, text_blockchain])\n",
        "cos_sim = cosine_similarity(X[0:1], X[1:2])[0][0]\n",
        "print(\"Cosine Similarity:\", cos_sim)\n",
        "\n",
        "# c. Analyze which similarity metric gives better insights in your case.\n",
        "print(\"Cosine similarity gives better insight into word significance than simple Jaccard overlap.\")"
      ],
      "metadata": {
        "colab": {
          "base_uri": "https://localhost:8080/"
        },
        "id": "gLOcXajaLHFq",
        "outputId": "2f95bc72-9c62-40c0-fee8-afba422519f9"
      },
      "execution_count": null,
      "outputs": [
        {
          "output_type": "stream",
          "name": "stdout",
          "text": [
            "Jaccard Similarity: 0.07142857142857142\n",
            "Cosine Similarity: 0.0\n",
            "Cosine similarity gives better insight into word significance than simple Jaccard overlap.\n"
          ]
        }
      ]
    },
    {
      "cell_type": "code",
      "source": [
        "from textblob import TextBlob\n",
        "\n",
        "review = \"Jojo Rabbit was an unexpectedly moving and creative film experience.\""
      ],
      "metadata": {
        "id": "31GdS3I3L4HE"
      },
      "execution_count": null,
      "outputs": []
    },
    {
      "cell_type": "code",
      "source": [
        "# Q5. Write a short review for a product or service.\n",
        "# 1. Use TextBlob or VADER to find polarity & subjecƟvity for each review.\n",
        "blob = TextBlob(review)\n",
        "polarity = blob.sentiment.polarity\n",
        "print(\"Polarity:\", polarity)"
      ],
      "metadata": {
        "colab": {
          "base_uri": "https://localhost:8080/"
        },
        "id": "40jKF8h_LVFn",
        "outputId": "a463752f-a3d5-45b8-8552-729b5d0863fa"
      },
      "execution_count": null,
      "outputs": [
        {
          "output_type": "stream",
          "name": "stdout",
          "text": [
            "Polarity: 0.3\n"
          ]
        }
      ]
    },
    {
      "cell_type": "code",
      "source": [
        "#2. Classify reviews into Positive / Negative / Neutral.\n",
        "if polarity > 0:\n",
        "    sentiment = \"Positive\"\n",
        "elif polarity < 0:\n",
        "    sentiment = \"Negative\"\n",
        "else:\n",
        "    sentiment = \"Neutral\"\n",
        "\n",
        "print(\"Sentiment:\", sentiment)"
      ],
      "metadata": {
        "colab": {
          "base_uri": "https://localhost:8080/"
        },
        "id": "cDvsPJPfL-vk",
        "outputId": "c983bbf5-42d6-4356-ce5e-a5f435d71eb9"
      },
      "execution_count": null,
      "outputs": [
        {
          "output_type": "stream",
          "name": "stdout",
          "text": [
            "Sentiment: Positive\n"
          ]
        }
      ]
    },
    {
      "cell_type": "code",
      "source": [
        "!pip install vaderSentiment\n"
      ],
      "metadata": {
        "colab": {
          "base_uri": "https://localhost:8080/"
        },
        "id": "zva9HVrhtiYk",
        "outputId": "08ced609-3529-4dac-c115-49c496b1b0d7"
      },
      "execution_count": 2,
      "outputs": [
        {
          "output_type": "stream",
          "name": "stdout",
          "text": [
            "Collecting vaderSentiment\n",
            "  Downloading vaderSentiment-3.3.2-py2.py3-none-any.whl.metadata (572 bytes)\n",
            "Requirement already satisfied: requests in /usr/local/lib/python3.11/dist-packages (from vaderSentiment) (2.32.3)\n",
            "Requirement already satisfied: charset-normalizer<4,>=2 in /usr/local/lib/python3.11/dist-packages (from requests->vaderSentiment) (3.4.1)\n",
            "Requirement already satisfied: idna<4,>=2.5 in /usr/local/lib/python3.11/dist-packages (from requests->vaderSentiment) (3.10)\n",
            "Requirement already satisfied: urllib3<3,>=1.21.1 in /usr/local/lib/python3.11/dist-packages (from requests->vaderSentiment) (2.4.0)\n",
            "Requirement already satisfied: certifi>=2017.4.17 in /usr/local/lib/python3.11/dist-packages (from requests->vaderSentiment) (2025.4.26)\n",
            "Downloading vaderSentiment-3.3.2-py2.py3-none-any.whl (125 kB)\n",
            "\u001b[?25l   \u001b[90m━━━━━━━━━━━━━━━━━━━━━━━━━━━━━━━━━━━━━━━━\u001b[0m \u001b[32m0.0/126.0 kB\u001b[0m \u001b[31m?\u001b[0m eta \u001b[36m-:--:--\u001b[0m\r\u001b[2K   \u001b[91m━━━━━━━━━━━━━━━━━━━━━━━━━━━━━━━━━━━━━━━\u001b[0m\u001b[90m╺\u001b[0m \u001b[32m122.9/126.0 kB\u001b[0m \u001b[31m4.7 MB/s\u001b[0m eta \u001b[36m0:00:01\u001b[0m\r\u001b[2K   \u001b[90m━━━━━━━━━━━━━━━━━━━━━━━━━━━━━━━━━━━━━━━━\u001b[0m \u001b[32m126.0/126.0 kB\u001b[0m \u001b[31m3.2 MB/s\u001b[0m eta \u001b[36m0:00:00\u001b[0m\n",
            "\u001b[?25hInstalling collected packages: vaderSentiment\n",
            "Successfully installed vaderSentiment-3.3.2\n"
          ]
        }
      ]
    },
    {
      "cell_type": "code",
      "source": [
        "from vaderSentiment.vaderSentiment import SentimentIntensityAnalyzer\n"
      ],
      "metadata": {
        "id": "KnqMh4cVtlMr"
      },
      "execution_count": 3,
      "outputs": []
    },
    {
      "cell_type": "markdown",
      "source": [],
      "metadata": {
        "id": "dQLT7tX-OeZI"
      }
    },
    {
      "cell_type": "code",
      "source": [
        "#3. Create a word cloud using the wordcloud library for all posiƟve reviews.\n",
        "\n",
        "from textblob import TextBlob\n",
        "from vaderSentiment.vaderSentiment import SentimentIntensityAnalyzer\n",
        "import matplotlib.pyplot as plt\n",
        "from wordcloud import WordCloud\n",
        "\n",
        "# Sample reviews\n",
        "reviews = [\n",
        "    \"Jojo Rabbit is a bold and emotional film.\",\n",
        "    \"It mixes satire with serious themes like war and identity.\",\n",
        "    \"The direction and performances bring humor and heart.\",\n",
        "    \"I didn't enjoy the film, it was too strange and unsettling.\",\n",
        "    \"The film's style is quirky and unique, which I appreciated.\",\n",
        "    \"Touching moments mixed with humor made it a memorable experience.\"\n",
        "]\n",
        "\n",
        "# Initialize the sentiment analyzer\n",
        "analyzer = SentimentIntensityAnalyzer()\n",
        "\n",
        "# Analyze each review\n",
        "def classify(compound):\n",
        "    if compound >= 0.05:\n",
        "        print(\"Classification: Positive\")\n",
        "    elif compound <= -0.05:\n",
        "        print(\"Classification: Negative\")\n",
        "    else:\n",
        "        print(\"Classification: Neutral\")\n",
        "\n",
        "print(\"Sentiment Analysis Results:\\n\")\n",
        "for review in reviews:\n",
        "    blob = TextBlob(review)\n",
        "    print(\"Review:\", review)\n",
        "    print(\"Polarity:\", blob.sentiment.polarity)\n",
        "    print(\"Subjectivity:\", blob.sentiment.subjectivity)\n",
        "\n",
        "    sentiment = analyzer.polarity_scores(review)\n",
        "    print(\"Sentiment Scores:\", sentiment)\n",
        "    classify(sentiment['compound'])\n",
        "    print()\n",
        "\n",
        "# Collect positive reviews\n",
        "positive = \"\"\n",
        "for review in reviews:\n",
        "    sentiment = analyzer.polarity_scores(review)\n",
        "    if sentiment['compound'] >= 0.5:\n",
        "        positive += \" \" + review\n",
        "\n",
        "# Generate and display the word cloud\n",
        "wordcloud = WordCloud(width=800, height=400, background_color='white').generate(positive)\n",
        "\n",
        "plt.figure(figsize=(10, 5))\n",
        "plt.imshow(wordcloud, interpolation='bilinear')\n",
        "plt.axis('off')\n",
        "plt.title(\"Word Cloud of Positive Reviews\")\n",
        "plt.show()\n"
      ],
      "metadata": {
        "colab": {
          "base_uri": "https://localhost:8080/",
          "height": 1000
        },
        "id": "n2unvnNptFW-",
        "outputId": "d4a3dd10-4492-4576-f2d5-e29aaf19a2eb"
      },
      "execution_count": 4,
      "outputs": [
        {
          "output_type": "stream",
          "name": "stdout",
          "text": [
            "Sentiment Analysis Results:\n",
            "\n",
            "Review: Jojo Rabbit is a bold and emotional film.\n",
            "Polarity: 0.16666666666666666\n",
            "Subjectivity: 0.6583333333333333\n",
            "Sentiment Scores: {'neg': 0.0, 'neu': 0.588, 'pos': 0.412, 'compound': 0.4939}\n",
            "Classification: Positive\n",
            "\n",
            "Review: It mixes satire with serious themes like war and identity.\n",
            "Polarity: -0.3333333333333333\n",
            "Subjectivity: 0.6666666666666666\n",
            "Sentiment Scores: {'neg': 0.354, 'neu': 0.476, 'pos': 0.17, 'compound': -0.4019}\n",
            "Classification: Negative\n",
            "\n",
            "Review: The direction and performances bring humor and heart.\n",
            "Polarity: 0.0\n",
            "Subjectivity: 0.0\n",
            "Sentiment Scores: {'neg': 0.0, 'neu': 0.488, 'pos': 0.512, 'compound': 0.743}\n",
            "Classification: Positive\n",
            "\n",
            "Review: I didn't enjoy the film, it was too strange and unsettling.\n",
            "Polarity: -0.04999999999999999\n",
            "Subjectivity: 0.45\n",
            "Sentiment Scores: {'neg': 0.33, 'neu': 0.67, 'pos': 0.0, 'compound': -0.5312}\n",
            "Classification: Negative\n",
            "\n",
            "Review: The film's style is quirky and unique, which I appreciated.\n",
            "Polarity: 0.19166666666666665\n",
            "Subjectivity: 0.7000000000000001\n",
            "Sentiment Scores: {'neg': 0.0, 'neu': 0.732, 'pos': 0.268, 'compound': 0.5106}\n",
            "Classification: Positive\n",
            "\n",
            "Review: Touching moments mixed with humor made it a memorable experience.\n",
            "Polarity: 0.3333333333333333\n",
            "Subjectivity: 0.5833333333333334\n",
            "Sentiment Scores: {'neg': 0.0, 'neu': 0.811, 'pos': 0.189, 'compound': 0.2732}\n",
            "Classification: Positive\n",
            "\n"
          ]
        },
        {
          "output_type": "display_data",
          "data": {
            "text/plain": [
              "<Figure size 1000x500 with 1 Axes>"
            ],
            "image/png": "[encoded data removed]"
          },
          "metadata": {}
        }
      ]
    },
    {
      "cell_type": "code",
      "source": [
        "# Q6. Choose your own paragraph (~100 words) as training data.\n",
        "# 1. Tokenize text using Tokenizer() from keras.preprocessing.text\n",
        "\n",
        "from tensorflow.keras.preprocessing.text import Tokenizer\n",
        "from tensorflow.keras.preprocessing.sequence import pad_sequences\n",
        "from tensorflow.keras.models import Sequential\n",
        "from keras.layers import Embedding, LSTM, Dense\n",
        "import numpy as np\n",
        "\n",
        "# Training data based on film-themed text\n",
        "data = [\n",
        "    \"Jojo Rabbit is a masterpiece of satire and heart.\",\n",
        "    \"The story unfolds through a child’s innocent eyes.\",\n",
        "    \"Humor and tragedy go hand in hand in the film.\",\n",
        "    \"Taika Waititi balances absurdity with emotional resonance.\",\n",
        "    \"The film critiques war and prejudice with creativity.\"\n",
        "]\n",
        "\n",
        "tokenizer = Tokenizer()\n",
        "tokenizer.fit_on_texts(data)\n",
        "sequences = []\n",
        "for line in data:\n",
        "    tokens = tokenizer.texts_to_sequences([line])[0]\n",
        "    for i in range(1, len(tokens)):\n",
        "        sequences.append(tokens[:i+1])\n",
        "\n",
        "\n",
        "maxlen = max(len(seq) for seq in sequences)\n",
        "sequences = pad_sequences(sequences, maxlen=maxlen, padding='pre')\n",
        "X, y = sequences[:, :-1], sequences[:, -1]\n",
        "\n",
        "# 2. Create input sequences and build a simple LSTM or Dense model\n",
        "\n",
        "vocab_size = len(tokenizer.word_index) + 1\n",
        "model = Sequential()\n",
        "model.add(Embedding(vocab_size, 10, input_length=maxlen-1))\n",
        "model.add(LSTM(50))\n",
        "model.add(Dense(vocab_size, activation='softmax'))\n",
        "model.compile(loss='sparse_categorical_crossentropy', optimizer='adam')\n",
        "model.fit(X, y, epochs=200, verbose=0)\n",
        "\n",
        "# 3. Train the model and generate 2–3 new lines of text starƟng from any seed word you provide.\n",
        "seed = \"jojo rabbit\"\n",
        "for _ in range(3):\n",
        "    token_seq = tokenizer.texts_to_sequences([seed])[0]\n",
        "    token_seq = pad_sequences([token_seq], maxlen=maxlen-1, padding='pre')\n",
        "    predicted = model.predict(token_seq, verbose=0)\n",
        "    output_word = tokenizer.index_word[np.argmax(predicted)]\n",
        "    seed += \" \" + output_word\n",
        "\n",
        "print(\"Generated Text:\", seed)\n",
        "\n"
      ],
      "metadata": {
        "colab": {
          "base_uri": "https://localhost:8080/"
        },
        "id": "U-Ec-1C9tsbg",
        "outputId": "46a85abf-846a-4463-e863-b03c2c6fb7e8"
      },
      "execution_count": 7,
      "outputs": [
        {
          "output_type": "stream",
          "name": "stderr",
          "text": [
            "/usr/local/lib/python3.11/dist-packages/keras/src/layers/core/embedding.py:90: UserWarning: Argument `input_length` is deprecated. Just remove it.\n",
            "  warnings.warn(\n"
          ]
        },
        {
          "output_type": "stream",
          "name": "stdout",
          "text": [
            "Generated Text: jojo rabbit waititi a masterpiece\n"
          ]
        }
      ]
    }
  ]
}