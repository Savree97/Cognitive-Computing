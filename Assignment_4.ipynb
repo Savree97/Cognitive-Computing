{
  "nbformat": 4,
  "nbformat_minor": 0,
  "metadata": {
    "colab": {
      "provenance": []
    },
    "kernelspec": {
      "name": "python3",
      "display_name": "Python 3"
    },
    "language_info": {
      "name": "python"
    }
  },
  "cells": [
    {
      "cell_type": "code",
      "source": [
        "import numpy as np\n",
        "#Q.1 Write a program to create a NumPy 1D-array with 5 elements and perform basic operations like:\n",
        "#a) Addition of 2 in all the element\n",
        "arr1=np.array([1,2,3,4,5])\n",
        "print(\"Original array:\",arr1)\n",
        "print(\"After adding 2:\",arr1+2)\n",
        "\n",
        "#b) Multiply 3 with all the elements\n",
        "print(\"after multiplying 3:\",arr1*3)\n",
        "\n",
        "#c) Divide every element by 2\n",
        "print(\"after dividing by 2:\",arr1/2)\n",
        "\n",
        "\n",
        "\n",
        "\n"
      ],
      "metadata": {
        "colab": {
          "base_uri": "https://localhost:8080/"
        },
        "id": "x8Z-okOIc6ap",
        "outputId": "e60b3f6b-6a8a-4630-9c62-80af77179142"
      },
      "execution_count": 2,
      "outputs": [
        {
          "output_type": "stream",
          "name": "stdout",
          "text": [
            "Original array: [1 2 3 4 5]\n",
            "After adding 2: [3 4 5 6 7]\n",
            "after multiplying 3: [ 3  6  9 12 15]\n",
            "after dividing by 2: [0.5 1.  1.5 2.  2.5]\n"
          ]
        }
      ]
    },
    {
      "cell_type": "code",
      "source": [
        "#Q.2 Questions on Basic NumPy Array:\n",
        "#a) Reverse the NumPy array: arr = np.array([1, 2, 3, 6, 4, 5])\n",
        "arr2=np.array([1,2,3,6,4,5])\n",
        "print(\"Reversed Array:\",arr2[::-1])\n",
        "\n",
        "\n",
        "#b) Find the most frequent value and their indice(s) in the following arrays:\n",
        "\n",
        "def find_mode(arr):\n",
        "    unique_values,counts=np.unique(arr,return_counts=True)\n",
        "    max_count_index=np.argmax(counts)\n",
        "    most_frequent=unique_values[max_count_index]\n",
        "    return most_frequent\n",
        "\n",
        "#i. x = np.array([1,2,3,4,5,1,2,1,1,1])\n",
        "\n",
        "x=np.array([1,2,3,4,5,1,2,1,1,1])\n",
        "x_mode=find_mode(x)\n",
        "print(\"Most frequent in x:\",x_mode,\"Indices:\",np.where(x==x_mode)[0])\n",
        "\n",
        "#ii. y = np.array([1, 1, 1, 2, 3, 4, 2, 4, 3, 3, ])\n",
        "\n",
        "y=np.array([1,1,1,2,3,4,2,4,3,3])\n",
        "y_mode=find_mode(y)\n",
        "print(\"Most frequent in y:\",y_mode,\"Indices:\",np.where(y==y_mode)[0])"
      ],
      "metadata": {
        "colab": {
          "base_uri": "https://localhost:8080/"
        },
        "id": "d0Sgrn8SggOY",
        "outputId": "3b4259d0-a4b2-4353-d003-3c596be1d95c"
      },
      "execution_count": 7,
      "outputs": [
        {
          "output_type": "stream",
          "name": "stdout",
          "text": [
            "Reversed Array: [5 4 6 3 2 1]\n",
            "Most frequent in x: 1 Indices: [0 5 7 8 9]\n",
            "Most frequent in y: 1 Indices: [0 1 2]\n"
          ]
        }
      ]
    },
    {
      "cell_type": "code",
      "source": [
        "#Q.3 For the given 2-D array arr=np.array([10, 20, 30], [40, 50, 60], [70, 80, 90]), access elements using row and column indices as follows:\n",
        "#a) Access 1st row, 2nd column\n",
        "arr3=np.array([[10,20,30],[40,50,60],[70,80,90]])\n",
        "print(\"Element at [0,1]:\",arr3[0,1])\n",
        "\n",
        "#b) Access 3rd row, 1st column\n",
        "print(\"Element at [2,0]:\",arr3[2,0])"
      ],
      "metadata": {
        "colab": {
          "base_uri": "https://localhost:8080/"
        },
        "id": "M3F6fG5Fljn0",
        "outputId": "d162d187-5539-4c5e-c5bd-5d44dddbc787"
      },
      "execution_count": 9,
      "outputs": [
        {
          "output_type": "stream",
          "name": "stdout",
          "text": [
            "Element at [0,1]: 20\n",
            "Element at [2,0]: 70\n"
          ]
        }
      ]
    },
    {
      "cell_type": "code",
      "source": [
        "#Q.4 Write program to create an 1-D NumPy array named <<Your Name>> with evenly spaced 25 numbers from 10 to 100 using linspace(). Print the dimensions of the array, shape, total elements, the data type of each element and total number of bytes consumed by the array. Find the transpose of this array using reshape() attribute. Can we do the same with T attribute?\n",
        "Savree=np.linspace(10,100,25)\n",
        "print(\"Array:\",Savree)\n",
        "print(\"Dimensions:\",Savree.ndim)\n",
        "print(\"Shape:\",Savree.shape)\n",
        "print(\"Total elements:\",Savree.size)\n",
        "print(\"Data type:\",Savree.dtype)\n",
        "print(\"Bytes consumed:\",Savree.nbytes)\n",
        "print(\"Transposed Array using reshape():\",Savree.reshape(25,1))\n",
        "print(\"Using T:\",Savree.T)"
      ],
      "metadata": {
        "colab": {
          "base_uri": "https://localhost:8080/"
        },
        "id": "NQfi6s40l9Oy",
        "outputId": "8dd4a67c-ec15-45ac-91b9-f3bb2a921999"
      },
      "execution_count": 10,
      "outputs": [
        {
          "output_type": "stream",
          "name": "stdout",
          "text": [
            "Array: [ 10.    13.75  17.5   21.25  25.    28.75  32.5   36.25  40.    43.75\n",
            "  47.5   51.25  55.    58.75  62.5   66.25  70.    73.75  77.5   81.25\n",
            "  85.    88.75  92.5   96.25 100.  ]\n",
            "Dimensions: 1\n",
            "Shape: (25,)\n",
            "Total elements: 25\n",
            "Data type: float64\n",
            "Bytes consumed: 200\n",
            "Transposed Array using reshape(): [[ 10.  ]\n",
            " [ 13.75]\n",
            " [ 17.5 ]\n",
            " [ 21.25]\n",
            " [ 25.  ]\n",
            " [ 28.75]\n",
            " [ 32.5 ]\n",
            " [ 36.25]\n",
            " [ 40.  ]\n",
            " [ 43.75]\n",
            " [ 47.5 ]\n",
            " [ 51.25]\n",
            " [ 55.  ]\n",
            " [ 58.75]\n",
            " [ 62.5 ]\n",
            " [ 66.25]\n",
            " [ 70.  ]\n",
            " [ 73.75]\n",
            " [ 77.5 ]\n",
            " [ 81.25]\n",
            " [ 85.  ]\n",
            " [ 88.75]\n",
            " [ 92.5 ]\n",
            " [ 96.25]\n",
            " [100.  ]]\n",
            "Using T: [ 10.    13.75  17.5   21.25  25.    28.75  32.5   36.25  40.    43.75\n",
            "  47.5   51.25  55.    58.75  62.5   66.25  70.    73.75  77.5   81.25\n",
            "  85.    88.75  92.5   96.25 100.  ]\n"
          ]
        }
      ]
    },
    {
      "cell_type": "code",
      "source": [
        "#Q5. Create a 2-D Array of three rows and four columns, named ucs420_<your_name>> with following values – 10, 20, 30, 40, 50, 60, 70, 80, 90, 15, 20, 35. Compute the mean, median, max, min, unique elements. Reshape the array to four rows and three columns and name it as reshaped_ ucs420_<your_name>>. Resize the array to two rows and three columns and name it as resized_ ucs420_<your_name>>.\n",
        "ucs420_Savree=np.array([[10,20,30,40],[50,60,70,80],[90,15,20,35]])\n",
        "print(\"Mean:\",np.mean(ucs420_Savree))\n",
        "print(\"Median:\",np.median(ucs420_Savree))\n",
        "print(\"Max:\",np.max(ucs420_Savree))\n",
        "print(\"Min:\",np.min(ucs420_Savree))\n",
        "print(\"Unique Elements:\",np.unique(ucs420_Savree))\n",
        "reshaped_ucs420_Savree=ucs420_Savree.reshape(4,3)\n",
        "print(\"Reshaped Array:\",reshaped_ucs420_Savree)\n",
        "resized_ucs420_Savree=np.resize(ucs420_Savree,(2,3))\n",
        "print(\"Resized Array:\",resized_ucs420_Savree)\n",
        "\n"
      ],
      "metadata": {
        "colab": {
          "base_uri": "https://localhost:8080/"
        },
        "id": "7D9Ss2UAngqG",
        "outputId": "c657648c-c96e-4655-b674-c61e9620462d"
      },
      "execution_count": 11,
      "outputs": [
        {
          "output_type": "stream",
          "name": "stdout",
          "text": [
            "Mean: 43.333333333333336\n",
            "Median: 37.5\n",
            "Max: 90\n",
            "Min: 10\n",
            "Unique Elements: [10 15 20 30 35 40 50 60 70 80 90]\n",
            "Reshaped Array: [[10 20 30]\n",
            " [40 50 60]\n",
            " [70 80 90]\n",
            " [15 20 35]]\n",
            "Resized Array: [[10 20 30]\n",
            " [40 50 60]]\n"
          ]
        }
      ]
    }
  ]
}