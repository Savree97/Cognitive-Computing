{
  "nbformat": 4,
  "nbformat_minor": 0,
  "metadata": {
    "colab": {
      "provenance": []
    },
    "kernelspec": {
      "name": "python3",
      "display_name": "Python 3"
    },
    "language_info": {
      "name": "python"
    }
  },
  "cells": [
    {
      "cell_type": "code",
      "source": [
        "import nltk\n",
        "import string\n",
        "from nltk.tokenize import word_tokenize, sent_tokenize\n",
        "from nltk.corpus import stopwords\n",
        "from collections import Counter\n",
        "nltk.download('punkt_tab')\n",
        "nltk.download('stopwords')"
      ],
      "metadata": {
        "colab": {
          "base_uri": "https://localhost:8080/"
        },
        "id": "_x8Lo6vMnjWA",
        "outputId": "613fbde0-b9a8-484a-cd2b-70968aee4007"
      },
      "execution_count": 28,
      "outputs": [
        {
          "output_type": "stream",
          "name": "stderr",
          "text": [
            "[nltk_data] Downloading package punkt_tab to /root/nltk_data...\n",
            "[nltk_data]   Unzipping tokenizers/punkt_tab.zip.\n",
            "[nltk_data] Downloading package stopwords to /root/nltk_data...\n",
            "[nltk_data]   Package stopwords is already up-to-date!\n"
          ]
        },
        {
          "output_type": "execute_result",
          "data": {
            "text/plain": [
              "True"
            ]
          },
          "metadata": {},
          "execution_count": 28
        }
      ]
    },
    {
      "cell_type": "code",
      "source": [
        "# Q1. Write a unique paragraph (5-6 sentences) about your favorite topic (e.g., sports, technology, food, books, etc.).\n",
        "# 1. Convert text to lowercase and remove punctuation.\n",
        "# 2. Tokenize the text into words and sentences.\n",
        "# 3. Remove stopwords (using NLTK's stopwords list).\n",
        "# 4. Display word frequency distribution (excluding stopwords).\n",
        "\n",
        "text =\"\"\"So here’s something about one of my favorite movies — Jojo Rabbit. It’s a satirical comedy-drama that blends humor and heartbreak in a surprisingly touching way.\n",
        "The story follows Jojo, a young boy living in Nazi Germany, who has Adolf Hitler as his imaginary friend — though portrayed in a ridiculously silly manner.\n",
        "As Jojo discovers that his mother is hiding a Jewish girl in their home, his beliefs begin to shift.\n",
        "The film bravely mixes absurdity with emotional depth, challenging prejudice with wit and compassion.\n",
        "Taika Waititi's direction adds a quirky charm that makes the story both hilarious and heart-wrenching.\"\"\"\n",
        "\n",
        "text_lower = text.lower()\n",
        "print(text_lower)\n",
        "\n"
      ],
      "metadata": {
        "colab": {
          "base_uri": "https://localhost:8080/"
        },
        "id": "gZOnyhAvn6_3",
        "outputId": "ccd43845-e4eb-4206-bb82-3bcb0ecf860e"
      },
      "execution_count": 26,
      "outputs": [
        {
          "output_type": "stream",
          "name": "stdout",
          "text": [
            "so here’s something about one of my favorite movies — jojo rabbit. it’s a satirical comedy-drama that blends humor and heartbreak in a surprisingly touching way. \n",
            "the story follows jojo, a young boy living in nazi germany, who has adolf hitler as his imaginary friend — though portrayed in a ridiculously silly manner. \n",
            "as jojo discovers that his mother is hiding a jewish girl in their home, his beliefs begin to shift. \n",
            "the film bravely mixes absurdity with emotional depth, challenging prejudice with wit and compassion. \n",
            "taika waititi's direction adds a quirky charm that makes the story both hilarious and heart-wrenching.\n"
          ]
        }
      ]
    },
    {
      "cell_type": "code",
      "source": [
        "text_clean = text_lower.translate(str.maketrans('', '', string.punctuation))\n",
        "print(text_clean )"
      ],
      "metadata": {
        "colab": {
          "base_uri": "https://localhost:8080/"
        },
        "id": "XedG_DnHpOuX",
        "outputId": "94b488a4-c951-45a1-e521-15962e6cfacc"
      },
      "execution_count": 18,
      "outputs": [
        {
          "output_type": "stream",
          "name": "stdout",
          "text": [
            "so here’s something about one of my favorite movies — jojo rabbit it’s a satirical comedydrama that blends humor and heartbreak in a surprisingly touching way \n",
            "the story follows jojo a young boy living in nazi germany who has adolf hitler as his imaginary friend — though portrayed in a ridiculously silly manner \n",
            "as jojo discovers that his mother is hiding a jewish girl in their home his beliefs begin to shift \n",
            "the film bravely mixes absurdity with emotional depth challenging prejudice with wit and compassion \n",
            "taika waititis direction adds a quirky charm that makes the story both hilarious and heartwrenching\n"
          ]
        }
      ]
    },
    {
      "cell_type": "code",
      "source": [
        "from nltk.tokenize import word_tokenize\n",
        "\n",
        "word_tokens = word_tokenize(text)\n",
        "print(word_tokens)"
      ],
      "metadata": {
        "colab": {
          "base_uri": "https://localhost:8080/"
        },
        "id": "6lmllMWHrCGZ",
        "outputId": "90449225-c0c3-4b1b-bca9-4f289b827b6b"
      },
      "execution_count": 29,
      "outputs": [
        {
          "output_type": "stream",
          "name": "stdout",
          "text": [
            "['So', 'here', '’', 's', 'something', 'about', 'one', 'of', 'my', 'favorite', 'movies', '—', 'Jojo', 'Rabbit', '.', 'It', '’', 's', 'a', 'satirical', 'comedy-drama', 'that', 'blends', 'humor', 'and', 'heartbreak', 'in', 'a', 'surprisingly', 'touching', 'way', '.', 'The', 'story', 'follows', 'Jojo', ',', 'a', 'young', 'boy', 'living', 'in', 'Nazi', 'Germany', ',', 'who', 'has', 'Adolf', 'Hitler', 'as', 'his', 'imaginary', 'friend', '—', 'though', 'portrayed', 'in', 'a', 'ridiculously', 'silly', 'manner', '.', 'As', 'Jojo', 'discovers', 'that', 'his', 'mother', 'is', 'hiding', 'a', 'Jewish', 'girl', 'in', 'their', 'home', ',', 'his', 'beliefs', 'begin', 'to', 'shift', '.', 'The', 'film', 'bravely', 'mixes', 'absurdity', 'with', 'emotional', 'depth', ',', 'challenging', 'prejudice', 'with', 'wit', 'and', 'compassion', '.', 'Taika', 'Waititi', \"'s\", 'direction', 'adds', 'a', 'quirky', 'charm', 'that', 'makes', 'the', 'story', 'both', 'hilarious', 'and', 'heart-wrenching', '.']\n"
          ]
        }
      ]
    },
    {
      "cell_type": "code",
      "source": [
        "stop_words = set(stopwords.words('english'))\n",
        "filtered_words = [word for word in word_tokens if word not in stop_words]\n",
        "print(filtered_words)"
      ],
      "metadata": {
        "colab": {
          "base_uri": "https://localhost:8080/"
        },
        "id": "-M8huyR3o8C8",
        "outputId": "746c97e7-beb2-44c7-d6c4-5fa9f3fb469f"
      },
      "execution_count": 32,
      "outputs": [
        {
          "output_type": "stream",
          "name": "stdout",
          "text": [
            "['So', '’', 'something', 'one', 'favorite', 'movies', '—', 'Jojo', 'Rabbit', '.', 'It', '’', 'satirical', 'comedy-drama', 'blends', 'humor', 'heartbreak', 'surprisingly', 'touching', 'way', '.', 'The', 'story', 'follows', 'Jojo', ',', 'young', 'boy', 'living', 'Nazi', 'Germany', ',', 'Adolf', 'Hitler', 'imaginary', 'friend', '—', 'though', 'portrayed', 'ridiculously', 'silly', 'manner', '.', 'As', 'Jojo', 'discovers', 'mother', 'hiding', 'Jewish', 'girl', 'home', ',', 'beliefs', 'begin', 'shift', '.', 'The', 'film', 'bravely', 'mixes', 'absurdity', 'emotional', 'depth', ',', 'challenging', 'prejudice', 'wit', 'compassion', '.', 'Taika', 'Waititi', \"'s\", 'direction', 'adds', 'quirky', 'charm', 'makes', 'story', 'hilarious', 'heart-wrenching', '.']\n"
          ]
        }
      ]
    },
    {
      "cell_type": "code",
      "source": [
        "freq_dist = Counter(filtered_words)\n",
        "print(freq_dist)"
      ],
      "metadata": {
        "colab": {
          "base_uri": "https://localhost:8080/"
        },
        "id": "CBOB_TmBsoDz",
        "outputId": "bf055b6a-34ce-4fbe-f669-b393f09a2758"
      },
      "execution_count": 33,
      "outputs": [
        {
          "output_type": "stream",
          "name": "stdout",
          "text": [
            "Counter({'.': 6, ',': 4, 'Jojo': 3, '’': 2, '—': 2, 'The': 2, 'story': 2, 'So': 1, 'something': 1, 'one': 1, 'favorite': 1, 'movies': 1, 'Rabbit': 1, 'It': 1, 'satirical': 1, 'comedy-drama': 1, 'blends': 1, 'humor': 1, 'heartbreak': 1, 'surprisingly': 1, 'touching': 1, 'way': 1, 'follows': 1, 'young': 1, 'boy': 1, 'living': 1, 'Nazi': 1, 'Germany': 1, 'Adolf': 1, 'Hitler': 1, 'imaginary': 1, 'friend': 1, 'though': 1, 'portrayed': 1, 'ridiculously': 1, 'silly': 1, 'manner': 1, 'As': 1, 'discovers': 1, 'mother': 1, 'hiding': 1, 'Jewish': 1, 'girl': 1, 'home': 1, 'beliefs': 1, 'begin': 1, 'shift': 1, 'film': 1, 'bravely': 1, 'mixes': 1, 'absurdity': 1, 'emotional': 1, 'depth': 1, 'challenging': 1, 'prejudice': 1, 'wit': 1, 'compassion': 1, 'Taika': 1, 'Waititi': 1, \"'s\": 1, 'direction': 1, 'adds': 1, 'quirky': 1, 'charm': 1, 'makes': 1, 'hilarious': 1, 'heart-wrenching': 1})\n"
          ]
        }
      ]
    },
    {
      "cell_type": "code",
      "source": [
        "# Q2: Stemming and Lemmatization\n",
        "# 1. Take the tokenized words from Question 1 (after stopword removal).\n",
        "# 2. Apply stemming using NLTK's PorterStemmer and LancasterStemmer.\n",
        "# 3. Apply lemmatization using NLTK's WordNetLemmatizer.\n",
        "# 4. Compare and display results of both techniques.\n",
        "\n",
        "\n",
        "from nltk.stem import PorterStemmer, LancasterStemmer, WordNetLemmatizer\n",
        "nltk.download('wordnet')"
      ],
      "metadata": {
        "colab": {
          "base_uri": "https://localhost:8080/"
        },
        "id": "ZRUBtNNrs2Nq",
        "outputId": "42775a98-4fd7-4bed-a666-529cb14e6a0c"
      },
      "execution_count": 34,
      "outputs": [
        {
          "output_type": "stream",
          "name": "stderr",
          "text": [
            "[nltk_data] Downloading package wordnet to /root/nltk_data...\n",
            "[nltk_data]   Package wordnet is already up-to-date!\n"
          ]
        },
        {
          "output_type": "execute_result",
          "data": {
            "text/plain": [
              "True"
            ]
          },
          "metadata": {},
          "execution_count": 34
        }
      ]
    },
    {
      "cell_type": "code",
      "source": [
        "porter = PorterStemmer()\n",
        "porter_stemmed = [porter.stem(word) for word in filtered_words]\n",
        "print(porter_stemmed)"
      ],
      "metadata": {
        "colab": {
          "base_uri": "https://localhost:8080/"
        },
        "id": "1b9Tx_EltM16",
        "outputId": "eef92419-6ecb-4bbe-98a6-23ca257e4702"
      },
      "execution_count": 35,
      "outputs": [
        {
          "output_type": "stream",
          "name": "stdout",
          "text": [
            "['so', '’', 'someth', 'one', 'favorit', 'movi', '—', 'jojo', 'rabbit', '.', 'it', '’', 'satir', 'comedy-drama', 'blend', 'humor', 'heartbreak', 'surprisingli', 'touch', 'way', '.', 'the', 'stori', 'follow', 'jojo', ',', 'young', 'boy', 'live', 'nazi', 'germani', ',', 'adolf', 'hitler', 'imaginari', 'friend', '—', 'though', 'portray', 'ridicul', 'silli', 'manner', '.', 'as', 'jojo', 'discov', 'mother', 'hide', 'jewish', 'girl', 'home', ',', 'belief', 'begin', 'shift', '.', 'the', 'film', 'brave', 'mix', 'absurd', 'emot', 'depth', ',', 'challeng', 'prejudic', 'wit', 'compass', '.', 'taika', 'waititi', \"'s\", 'direct', 'add', 'quirki', 'charm', 'make', 'stori', 'hilari', 'heart-wrench', '.']\n"
          ]
        }
      ]
    },
    {
      "cell_type": "code",
      "source": [
        "lancaster = LancasterStemmer()\n",
        "lancaster_stemmed = [lancaster.stem(word) for word in filtered_words]\n",
        "print(lancaster_stemmed)"
      ],
      "metadata": {
        "colab": {
          "base_uri": "https://localhost:8080/"
        },
        "id": "FYkg_OietaSg",
        "outputId": "003aa8ba-aa31-463f-a8a3-3c75640722a3"
      },
      "execution_count": 36,
      "outputs": [
        {
          "output_type": "stream",
          "name": "stdout",
          "text": [
            "['so', '’', 'someth', 'on', 'favorit', 'movy', '—', 'jojo', 'rabbit', '.', 'it', '’', 'satir', 'comedy-drama', 'blend', 'hum', 'heartbreak', 'surpr', 'touch', 'way', '.', 'the', 'story', 'follow', 'jojo', ',', 'young', 'boy', 'liv', 'naz', 'germany', ',', 'adolf', 'hitl', 'imagin', 'friend', '—', 'though', 'portray', 'ridic', 'sil', 'man', '.', 'as', 'jojo', 'discov', 'moth', 'hid', 'jew', 'girl', 'hom', ',', 'believ', 'begin', 'shift', '.', 'the', 'film', 'brav', 'mix', 'absurd', 'emot', 'dep', ',', 'challeng', 'prejud', 'wit', 'compass', '.', 'taik', 'waitit', \"'s\", 'direct', 'ad', 'quirky', 'charm', 'mak', 'story', 'hil', 'heart-wrenching', '.']\n"
          ]
        }
      ]
    },
    {
      "cell_type": "code",
      "source": [
        "lemmatizer = WordNetLemmatizer()\n",
        "lemmatized = [lemmatizer.lemmatize(word) for word in filtered_words]\n",
        "print(lemmatized)"
      ],
      "metadata": {
        "colab": {
          "base_uri": "https://localhost:8080/"
        },
        "id": "bL4M1wd4tkuW",
        "outputId": "658becce-3d3c-4585-af22-f3bfb8521437"
      },
      "execution_count": 38,
      "outputs": [
        {
          "output_type": "stream",
          "name": "stdout",
          "text": [
            "['So', '’', 'something', 'one', 'favorite', 'movie', '—', 'Jojo', 'Rabbit', '.', 'It', '’', 'satirical', 'comedy-drama', 'blend', 'humor', 'heartbreak', 'surprisingly', 'touching', 'way', '.', 'The', 'story', 'follows', 'Jojo', ',', 'young', 'boy', 'living', 'Nazi', 'Germany', ',', 'Adolf', 'Hitler', 'imaginary', 'friend', '—', 'though', 'portrayed', 'ridiculously', 'silly', 'manner', '.', 'As', 'Jojo', 'discovers', 'mother', 'hiding', 'Jewish', 'girl', 'home', ',', 'belief', 'begin', 'shift', '.', 'The', 'film', 'bravely', 'mix', 'absurdity', 'emotional', 'depth', ',', 'challenging', 'prejudice', 'wit', 'compassion', '.', 'Taika', 'Waititi', \"'s\", 'direction', 'add', 'quirky', 'charm', 'make', 'story', 'hilarious', 'heart-wrenching', '.']\n"
          ]
        }
      ]
    },
    {
      "cell_type": "code",
      "source": [
        "# Q3. Regular Expressions and Text Spliƫng\n",
        "# 1. Take their original text from Question 1.\n",
        "\n",
        "# 2. Use regular expressions to:\n",
        "# a. Extract all words with more than 5 letters.\n",
        "# b. Extract all numbers (if any exist in their text).\n",
        "# c. Extract all capitalized words.\n",
        "\n",
        "# 3. Use text splitting techniques to:\n",
        "# a. Split the text into words containing only alphabets (removing digits and special characters).\n",
        "# b. Extract words starting with a vowel.\n",
        "\n",
        "\n",
        "import re"
      ],
      "metadata": {
        "id": "oOYrdjIBt2rT"
      },
      "execution_count": 40,
      "outputs": []
    },
    {
      "cell_type": "code",
      "source": [
        "# a. Extract all words with more than 5 letters.\n",
        "words_gt5 = [word for word in filtered_words if len(word) > 5]\n",
        "print(words_gt5)"
      ],
      "metadata": {
        "colab": {
          "base_uri": "https://localhost:8080/"
        },
        "id": "zCpppev-uJ61",
        "outputId": "1cbf4c19-2b0b-48c5-837e-f45c0c0d60a5"
      },
      "execution_count": 42,
      "outputs": [
        {
          "output_type": "stream",
          "name": "stdout",
          "text": [
            "['something', 'favorite', 'movies', 'Rabbit', 'satirical', 'comedy-drama', 'blends', 'heartbreak', 'surprisingly', 'touching', 'follows', 'living', 'Germany', 'Hitler', 'imaginary', 'friend', 'though', 'portrayed', 'ridiculously', 'manner', 'discovers', 'mother', 'hiding', 'Jewish', 'beliefs', 'bravely', 'absurdity', 'emotional', 'challenging', 'prejudice', 'compassion', 'Waititi', 'direction', 'quirky', 'hilarious', 'heart-wrenching']\n"
          ]
        }
      ]
    },
    {
      "cell_type": "code",
      "source": [
        "# b. Extract all numbers (if any exist in their text).\n",
        "numbers = re.findall(r'\\d+', text)\n",
        "print(numbers)"
      ],
      "metadata": {
        "colab": {
          "base_uri": "https://localhost:8080/"
        },
        "id": "tVI7BJsAuYU8",
        "outputId": "b7c07ed4-2993-42ff-da0d-374d0f972233"
      },
      "execution_count": 44,
      "outputs": [
        {
          "output_type": "stream",
          "name": "stdout",
          "text": [
            "[]\n"
          ]
        }
      ]
    },
    {
      "cell_type": "code",
      "source": [
        "# c. Extract all capitalized words.\n",
        "capitalized = [word for word in word_tokenize(text) if word.istitle()]\n",
        "print(capitalized)"
      ],
      "metadata": {
        "colab": {
          "base_uri": "https://localhost:8080/"
        },
        "id": "7Sbxyt84uh0Y",
        "outputId": "db327fb7-5929-4816-f737-b1ed5daf6f6d"
      },
      "execution_count": 46,
      "outputs": [
        {
          "output_type": "stream",
          "name": "stdout",
          "text": [
            "['So', 'Jojo', 'Rabbit', 'It', 'The', 'Jojo', 'Nazi', 'Germany', 'Adolf', 'Hitler', 'As', 'Jojo', 'Jewish', 'The', 'Taika', 'Waititi']\n"
          ]
        }
      ]
    },
    {
      "cell_type": "code",
      "source": [
        "# a. Split the text into words containing only alphabets (removing digits and special characters).\n",
        "only_alpha = [word for word in word_tokenize(text) if word.isalpha()]\n",
        "print(only_alpha)"
      ],
      "metadata": {
        "colab": {
          "base_uri": "https://localhost:8080/"
        },
        "id": "SMzA1NE3un2G",
        "outputId": "48db6627-f915-449e-992f-50198d4b1a48"
      },
      "execution_count": 48,
      "outputs": [
        {
          "output_type": "stream",
          "name": "stdout",
          "text": [
            "['So', 'here', 's', 'something', 'about', 'one', 'of', 'my', 'favorite', 'movies', 'Jojo', 'Rabbit', 'It', 's', 'a', 'satirical', 'that', 'blends', 'humor', 'and', 'heartbreak', 'in', 'a', 'surprisingly', 'touching', 'way', 'The', 'story', 'follows', 'Jojo', 'a', 'young', 'boy', 'living', 'in', 'Nazi', 'Germany', 'who', 'has', 'Adolf', 'Hitler', 'as', 'his', 'imaginary', 'friend', 'though', 'portrayed', 'in', 'a', 'ridiculously', 'silly', 'manner', 'As', 'Jojo', 'discovers', 'that', 'his', 'mother', 'is', 'hiding', 'a', 'Jewish', 'girl', 'in', 'their', 'home', 'his', 'beliefs', 'begin', 'to', 'shift', 'The', 'film', 'bravely', 'mixes', 'absurdity', 'with', 'emotional', 'depth', 'challenging', 'prejudice', 'with', 'wit', 'and', 'compassion', 'Taika', 'Waititi', 'direction', 'adds', 'a', 'quirky', 'charm', 'that', 'makes', 'the', 'story', 'both', 'hilarious', 'and']\n"
          ]
        }
      ]
    },
    {
      "cell_type": "code",
      "source": [
        "# b. Extract words starting with a vowel.\n",
        "starts_with_vowel = [word for word in only_alpha if word[0].lower() in 'aeiou']\n",
        "print(starts_with_vowel)"
      ],
      "metadata": {
        "colab": {
          "base_uri": "https://localhost:8080/"
        },
        "id": "r7i2LxdauwGi",
        "outputId": "d3b245f5-7c00-48b3-b0f3-17e694b95172"
      },
      "execution_count": 50,
      "outputs": [
        {
          "output_type": "stream",
          "name": "stdout",
          "text": [
            "['about', 'one', 'of', 'It', 'a', 'and', 'in', 'a', 'a', 'in', 'Adolf', 'as', 'imaginary', 'in', 'a', 'As', 'is', 'a', 'in', 'absurdity', 'emotional', 'and', 'adds', 'a', 'and']\n"
          ]
        }
      ]
    },
    {
      "cell_type": "code",
      "source": [
        "# Q4. Custom TokenizaƟon & Regex-based Text Cleaning\n",
        "# 1. Take original text from QuesƟon 1.\n",
        "\n",
        "# 2. Write a custom tokenization function that:\n",
        "# a. Removes punctuation and special symbols, but keeps contractions (e.g.,\"isn't\" should not be split into \"is\" and \"n't\").\n",
        "# b. Handles hyphenated words as a single token (e.g., \"state-of-the-art\" remains a single token).\n",
        "# c. Tokenizes numbers separately but keeps decimal numbers intact (e.g., \"3.14\" should remain as is).\n",
        "\n",
        "# 3. Use Regex Substitutions (re.sub) to:\n",
        "# a. Replace email addresses with '<EMAIL>' placeholder.\n",
        "# b. Replace URLs with '<URL>' placeholder.\n",
        "# c. Replace phone numbers (formats: 123-456-7890 or +91 9876543210) with '<PHONE>' placeholder.\n",
        "\n",
        "def custom_tokenizer(text):\n",
        "    cleaned = re.sub(r\"[^a-zA-Z0-9\\-\\.']\", ' ', text)\n",
        "    tokens = re.findall(r\"[a-zA-Z]+(?:[-'.][a-zA-Z]+)*|\\d+(?:\\.\\d+)?\", cleaned)\n",
        "    return tokens\n",
        "\n",
        "\n"
      ],
      "metadata": {
        "id": "-WDYs3VIu114"
      },
      "execution_count": 51,
      "outputs": []
    },
    {
      "cell_type": "code",
      "source": [
        "tokens_custom = custom_tokenizer(text)\n",
        "print(tokens_custom)"
      ],
      "metadata": {
        "colab": {
          "base_uri": "https://localhost:8080/"
        },
        "id": "vCr3eZJJvsqH",
        "outputId": "e1ec56a5-7b9d-4dfb-8ea8-a4b0fb514d8d"
      },
      "execution_count": 52,
      "outputs": [
        {
          "output_type": "stream",
          "name": "stdout",
          "text": [
            "['So', 'here', 's', 'something', 'about', 'one', 'of', 'my', 'favorite', 'movies', 'Jojo', 'Rabbit', 'It', 's', 'a', 'satirical', 'comedy-drama', 'that', 'blends', 'humor', 'and', 'heartbreak', 'in', 'a', 'surprisingly', 'touching', 'way', 'The', 'story', 'follows', 'Jojo', 'a', 'young', 'boy', 'living', 'in', 'Nazi', 'Germany', 'who', 'has', 'Adolf', 'Hitler', 'as', 'his', 'imaginary', 'friend', 'though', 'portrayed', 'in', 'a', 'ridiculously', 'silly', 'manner', 'As', 'Jojo', 'discovers', 'that', 'his', 'mother', 'is', 'hiding', 'a', 'Jewish', 'girl', 'in', 'their', 'home', 'his', 'beliefs', 'begin', 'to', 'shift', 'The', 'film', 'bravely', 'mixes', 'absurdity', 'with', 'emotional', 'depth', 'challenging', 'prejudice', 'with', 'wit', 'and', 'compassion', 'Taika', \"Waititi's\", 'direction', 'adds', 'a', 'quirky', 'charm', 'that', 'makes', 'the', 'story', 'both', 'hilarious', 'and', 'heart-wrenching']\n"
          ]
        }
      ]
    },
    {
      "cell_type": "code",
      "source": [
        "text1=\"Contact me at john.doe@example.com or visit https://example.com. You can also call +91 9876543210 or 123-456-7890. Another email: test_user123@mail.co.uk\"\n",
        "print(text1)\n",
        "text1_subbed = text1\n",
        "text1_subbed = re.sub(r'\\S+@\\S+', '<EMAIL>', text1_subbed)\n",
        "text1_subbed = re.sub(r'https?://\\S+|www\\.\\S+', '<URL>', text1_subbed)\n",
        "text1_subbed = re.sub(r'(\\+?\\d{1,3})?[-.\\s]?\\(?\\d{3}\\)?[-.\\s]?\\d{3}[-.\\s]?\\d{4}', '<PHONE>', text1_subbed)\n",
        "print(text1_subbed)\n"
      ],
      "metadata": {
        "colab": {
          "base_uri": "https://localhost:8080/"
        },
        "id": "tpJZLDhEvxJ6",
        "outputId": "f12afaef-e980-4807-8579-d09802e6658d"
      },
      "execution_count": 56,
      "outputs": [
        {
          "output_type": "stream",
          "name": "stdout",
          "text": [
            "Contact me at john.doe@example.com or visit https://example.com. You can also call +91 9876543210 or 123-456-7890. Another email: test_user123@mail.co.uk\n",
            "Contact me at <EMAIL> or visit <URL> You can also call <PHONE> or<PHONE>. Another email: <EMAIL>\n"
          ]
        }
      ]
    },
    {
      "cell_type": "code",
      "source": [],
      "metadata": {
        "id": "N8f1X_wtv1Lg"
      },
      "execution_count": null,
      "outputs": []
    }
  ]
}